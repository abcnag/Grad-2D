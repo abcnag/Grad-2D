def func(x1,x2):
    return x1**2+3*x2**2
#---#
def func_grad(x1,x2):
    return 2*x1,6*x2
#---#
def gradient(lr,x1,x2,func_grad):
    gr_x1 , gr_x2 = func_grad(x1,x2)
    return x1-lr*gr_x1 , x2-lr*gr_x2
#---#
def search_path(gradient,func_grad):
    x1,x2=-32,-10
    Xs = [(x1,x2)]
    x1,x2 = gradient(0.01,x1,x2,func_grad)
    Xs.append((x1,x2))
    #---#
    while Xs[-1][0]-Xs[-2][0]+Xs[-1][1]-Xs[-2][1] > 1e-10:
        x1,x2 = gradient(0.01,x1,x2,func_grad)
        Xs.append((x1,x2))
    print(x1,x2)
#---#
search_path(gradient,func_grad)
